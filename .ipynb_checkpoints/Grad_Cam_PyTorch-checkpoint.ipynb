{
 "cells": [
  {
   "cell_type": "markdown",
   "id": "ec085f0c-b887-4cfa-8a8b-ee52c6f9b968",
   "metadata": {},
   "source": [
    "# Utilisation du Grad_CAM pour un réseau VGG19\n",
    "___\n",
    "\n",
    "Ce code est inspiré de plusieurs articles et livres pour implémenter un Grad_CAM sur un réseau VGG19 avec des images issus de la banque d'image ImageNet. Comme certaines fonctionnalités ne sont pas présentes dans PyTorch, nous allons faire cette implémentation en suivant plusieurs étapes :\n",
    "- Charger le modèle VGG19\n",
    "- Trouver sa dernière couche convolutive\n",
    "- Calculer la classe la plus probable\n",
    "- Prenez le gradient du logit de classe par rapport aux cartes d’activation que nous venons d’obtenir\n",
    "- Regrouper les dégradés\n",
    "- Pondérer les canaux de la carte par les gradients groupés correspondants\n",
    "- Interpoler la carte thermique\n",
    "\n",
    "## 1ère étape : charger le modèle VGG19\n",
    "\n",
    "Ici, j’importe tous les éléments standard que nous utilisons pour travailler avec les réseaux de neurones dans PyTorch. J’utilise la transformation de base nécessaire pour utiliser n’importe quel modèle formé sur le jeu de données ImageNet, y compris la normalisation de l’image. Je vais nourrir une image à la fois, c’est pourquoi je définis mon ensemble de données comme étant l’image des éléphants, dans le but d’obtenir des résultats similaires à ceux de l'article. "
   ]
  },
  {
   "cell_type": "code",
   "execution_count": 1,
   "id": "f15f97f0-12d1-43a6-8d3b-5d0566771edd",
   "metadata": {},
   "outputs": [],
   "source": [
    "import torch\n",
    "import torch.nn as nn\n",
    "from torch.utils import data\n",
    "from torchvision.models import vgg19\n",
    "from torchvision import transforms\n",
    "from torchvision import datasets\n",
    "import matplotlib.pyplot as plt\n",
    "import numpy as np\n",
    "\n",
    "# use the ImageNet transformation\n",
    "transform = transforms.Compose([transforms.Resize((224, 224)), \n",
    "                                transforms.ToTensor(),\n",
    "                                transforms.Normalize(mean=[0.485, 0.456, 0.406], std=[0.229, 0.224, 0.225])])\n",
    "\n",
    "# define a 1 image dataset\n",
    "dataset = datasets.ImageFolder(root='./data/Sharks/', transform=transform)\n",
    "\n",
    "# define the dataloader to load that single image\n",
    "dataloader = data.DataLoader(dataset=dataset, shuffle=False, batch_size=1)\n"
   ]
  },
  {
   "cell_type": "markdown",
   "id": "2fdfea0b-3612-4484-a2d3-64f47880ba17",
   "metadata": {},
   "source": [
    "## 2eme étape : trouver la dernière couche convolutive\n",
    "\n",
    "Il y a un instrument de rappel dans PyTorch : les crochets. \n",
    "Les crochets peuvent être utilisés dans différents scénarios, le nôtre est l’un d’entre eux. La documentation nous dit :\n",
    "\n",
    "___\"Le crochet sera appelé chaque fois qu’un gradient par rapport au tenseur est calculé.\"___\n",
    "\n",
    "Nous savons maintenant que nous devons enregistrer le crochet arrière sur la carte d’activation de la dernière couche convolutive de notre modèle VGG19. Trouvons où accrocher. \n",
    "On peut facilement observer l’architecture VGG19 en appelant : _vgg19(pretrained=True)_"
   ]
  },
  {
   "cell_type": "code",
   "execution_count": 2,
   "id": "640673f2-eb34-44bc-9ca1-24eddcb84248",
   "metadata": {},
   "outputs": [
    {
     "data": {
      "text/plain": [
       "VGG(\n",
       "  (features): Sequential(\n",
       "    (0): Conv2d(3, 64, kernel_size=(3, 3), stride=(1, 1), padding=(1, 1))\n",
       "    (1): ReLU(inplace=True)\n",
       "    (2): Conv2d(64, 64, kernel_size=(3, 3), stride=(1, 1), padding=(1, 1))\n",
       "    (3): ReLU(inplace=True)\n",
       "    (4): MaxPool2d(kernel_size=2, stride=2, padding=0, dilation=1, ceil_mode=False)\n",
       "    (5): Conv2d(64, 128, kernel_size=(3, 3), stride=(1, 1), padding=(1, 1))\n",
       "    (6): ReLU(inplace=True)\n",
       "    (7): Conv2d(128, 128, kernel_size=(3, 3), stride=(1, 1), padding=(1, 1))\n",
       "    (8): ReLU(inplace=True)\n",
       "    (9): MaxPool2d(kernel_size=2, stride=2, padding=0, dilation=1, ceil_mode=False)\n",
       "    (10): Conv2d(128, 256, kernel_size=(3, 3), stride=(1, 1), padding=(1, 1))\n",
       "    (11): ReLU(inplace=True)\n",
       "    (12): Conv2d(256, 256, kernel_size=(3, 3), stride=(1, 1), padding=(1, 1))\n",
       "    (13): ReLU(inplace=True)\n",
       "    (14): Conv2d(256, 256, kernel_size=(3, 3), stride=(1, 1), padding=(1, 1))\n",
       "    (15): ReLU(inplace=True)\n",
       "    (16): Conv2d(256, 256, kernel_size=(3, 3), stride=(1, 1), padding=(1, 1))\n",
       "    (17): ReLU(inplace=True)\n",
       "    (18): MaxPool2d(kernel_size=2, stride=2, padding=0, dilation=1, ceil_mode=False)\n",
       "    (19): Conv2d(256, 512, kernel_size=(3, 3), stride=(1, 1), padding=(1, 1))\n",
       "    (20): ReLU(inplace=True)\n",
       "    (21): Conv2d(512, 512, kernel_size=(3, 3), stride=(1, 1), padding=(1, 1))\n",
       "    (22): ReLU(inplace=True)\n",
       "    (23): Conv2d(512, 512, kernel_size=(3, 3), stride=(1, 1), padding=(1, 1))\n",
       "    (24): ReLU(inplace=True)\n",
       "    (25): Conv2d(512, 512, kernel_size=(3, 3), stride=(1, 1), padding=(1, 1))\n",
       "    (26): ReLU(inplace=True)\n",
       "    (27): MaxPool2d(kernel_size=2, stride=2, padding=0, dilation=1, ceil_mode=False)\n",
       "    (28): Conv2d(512, 512, kernel_size=(3, 3), stride=(1, 1), padding=(1, 1))\n",
       "    (29): ReLU(inplace=True)\n",
       "    (30): Conv2d(512, 512, kernel_size=(3, 3), stride=(1, 1), padding=(1, 1))\n",
       "    (31): ReLU(inplace=True)\n",
       "    (32): Conv2d(512, 512, kernel_size=(3, 3), stride=(1, 1), padding=(1, 1))\n",
       "    (33): ReLU(inplace=True)\n",
       "    (34): Conv2d(512, 512, kernel_size=(3, 3), stride=(1, 1), padding=(1, 1))\n",
       "    (35): ReLU(inplace=True)\n",
       "    (36): MaxPool2d(kernel_size=2, stride=2, padding=0, dilation=1, ceil_mode=False)\n",
       "  )\n",
       "  (avgpool): AdaptiveAvgPool2d(output_size=(7, 7))\n",
       "  (classifier): Sequential(\n",
       "    (0): Linear(in_features=25088, out_features=4096, bias=True)\n",
       "    (1): ReLU(inplace=True)\n",
       "    (2): Dropout(p=0.5, inplace=False)\n",
       "    (3): Linear(in_features=4096, out_features=4096, bias=True)\n",
       "    (4): ReLU(inplace=True)\n",
       "    (5): Dropout(p=0.5, inplace=False)\n",
       "    (6): Linear(in_features=4096, out_features=1000, bias=True)\n",
       "  )\n",
       ")"
      ]
     },
     "execution_count": 2,
     "metadata": {},
     "output_type": "execute_result"
    }
   ],
   "source": [
    "vgg19(pretrained=True)"
   ]
  },
  {
   "cell_type": "markdown",
   "id": "19a09c14-1072-4fb7-a5b7-6414938f2556",
   "metadata": {},
   "source": [
    "Dans l’image, nous voyons toute l’architecture VGG19. La dernière couche convolutive est donc ___(34): Conv2d(512, 512, kernel_size=(3, 3), stride=(1, 1), padding=(1, 1))___ (avec sa fonction d'activation ___(35): ReLU(inplace=True)___). Eh bien, nous savons maintenant que nous voulons enregistrer le crochet arrière à la 35ème couche du bloc de fonctionnalités de notre réseau."
   ]
  },
  {
   "cell_type": "code",
   "execution_count": 3,
   "id": "cae9ba8e-eae5-4b57-aeab-eee784a85caa",
   "metadata": {},
   "outputs": [],
   "source": [
    "class VGG(nn.Module):\n",
    "    def __init__(self):\n",
    "        super(VGG, self).__init__()\n",
    "        \n",
    "        # get the pretrained VGG19 network\n",
    "        self.vgg = vgg19(pretrained=True)\n",
    "        \n",
    "        # disect the network to access its last convolutional layer\n",
    "        self.features_conv = self.vgg.features[:36]\n",
    "        \n",
    "        # get the max pool of the features stem\n",
    "        self.max_pool = nn.MaxPool2d(kernel_size=2, stride=2, padding=0, dilation=1, ceil_mode=False)\n",
    "        \n",
    "        # get the classifier of the vgg19\n",
    "        self.classifier = self.vgg.classifier\n",
    "        \n",
    "        # placeholder for the gradients\n",
    "        self.gradients = None\n",
    "    \n",
    "    # hook for the gradients of the activations\n",
    "    def activations_hook(self, grad):\n",
    "        self.gradients = grad\n",
    "        \n",
    "    def forward(self, x):\n",
    "        x = self.features_conv(x)\n",
    "        \n",
    "        # register the hook\n",
    "        h = x.register_hook(self.activations_hook)\n",
    "        \n",
    "        # apply the remaining pooling\n",
    "        x = self.max_pool(x)\n",
    "        x = x.view((1, -1))\n",
    "        x = self.classifier(x)\n",
    "        return x\n",
    "    \n",
    "    # method for the gradient extraction\n",
    "    def get_activations_gradient(self):\n",
    "        return self.gradients\n",
    "    \n",
    "    # method for the activation exctraction\n",
    "    def get_activations(self, x):\n",
    "        return self.features_conv(x)"
   ]
  },
  {
   "cell_type": "markdown",
   "id": "136704b1-6b82-4630-94dd-f4a82e6bf8cc",
   "metadata": {},
   "source": [
    "## 3ème étape : calculer sa classe la plus probable\n",
    "\n",
    "Tout d’abord, faisons passer le foward pass à travers le réseau avec l’image des éléphants et voyons ce que le VGG19 prédit. N’oubliez pas de mettre votre modèle en mode d’évaluation, sinon vous pouvez obtenir des résultats très aléatoires:"
   ]
  },
  {
   "cell_type": "code",
   "execution_count": 4,
   "id": "9108a44f-39e5-4bde-9b3b-0a725229f7d3",
   "metadata": {},
   "outputs": [],
   "source": [
    "# initialize the VGG model\n",
    "vgg = VGG()\n",
    "\n",
    "# set the evaluation mode\n",
    "vgg.eval()\n",
    "\n",
    "# get the image from the dataloader\n",
    "img, _ = next(iter(dataloader))\n",
    "\n",
    "# get the most likely prediction of the model\n",
    "pred = vgg(img)"
   ]
  },
  {
   "cell_type": "code",
   "execution_count": 5,
   "id": "7c5be69a-b840-4ea4-bf45-5f4cc22d2f59",
   "metadata": {},
   "outputs": [
    {
     "data": {
      "text/plain": [
       "tensor([2])"
      ]
     },
     "execution_count": 5,
     "metadata": {},
     "output_type": "execute_result"
    }
   ],
   "source": [
    "pred.argmax(dim=1)"
   ]
  },
  {
   "cell_type": "markdown",
   "id": "e8a12f0a-008c-4b26-a795-8797b7a0adbe",
   "metadata": {},
   "source": [
    "## 4ème étape : prendre le gradient de logit de la classe probable et interpoler la carte thermique\n",
    "\n",
    "Maintenant, nous allons faire la rétro-propagation avec le logit de la 386ème classe qui représente le 'African_elephant' dans le jeu de données ImageNet."
   ]
  },
  {
   "cell_type": "code",
   "execution_count": 6,
   "id": "a847d91b-605a-43de-9c41-24b4aa138b60",
   "metadata": {},
   "outputs": [
    {
     "data": {
      "text/plain": [
       "<matplotlib.image.AxesImage at 0x1c6fb702940>"
      ]
     },
     "execution_count": 6,
     "metadata": {},
     "output_type": "execute_result"
    },
    {
     "data": {
      "image/png": "[encoded data removed]",
      "text/plain": [
       "<Figure size 288x288 with 1 Axes>"
      ]
     },
     "metadata": {
      "needs_background": "light"
     },
     "output_type": "display_data"
    }
   ],
   "source": [
    "# get the gradient of the output with respect to the parameters of the model\n",
    "pred[:, 2].backward()\n",
    "\n",
    "# pull the gradients out of the model\n",
    "gradients = vgg.get_activations_gradient()\n",
    "\n",
    "# pool the gradients across the channels\n",
    "pooled_gradients = torch.mean(gradients, dim=[0, 2, 3])\n",
    "\n",
    "# get the activations of the last convolutional layer\n",
    "activations = vgg.get_activations(img).detach()\n",
    "\n",
    "# weight the channels by corresponding gradients\n",
    "for i in range(512):\n",
    "    activations[:, i, :, :] *= pooled_gradients[i]\n",
    "    \n",
    "# average the channels of the activations\n",
    "heatmap = torch.mean(activations, dim=1).squeeze()\n",
    "\n",
    "# relu on top of the heatmap\n",
    "# expression (2) in https://arxiv.org/pdf/1610.02391.pdf\n",
    "heatmap = np.maximum(heatmap, 0)\n",
    "\n",
    "# normalize the heatmap\n",
    "heatmap /= torch.max(heatmap)\n",
    "\n",
    "# draw the heatmap\n",
    "plt.matshow(heatmap.squeeze())"
   ]
  },
  {
   "cell_type": "markdown",
   "id": "253276a5-996e-494b-ad81-2623925121cf",
   "metadata": {},
   "source": [
    "Enfin, nous obtenons la carte thermique pour l’image de l’éléphant. Il s’agit d’une image monocanal 14x14. __La taille est dictée par les dimensions spatiales des cartes d’activation dans la dernière couche convolutive du réseau.__\n",
    "\n",
    "Maintenant, nous pouvons utiliser OpenCV pour interpoler la carte thermique et la projeter sur l’image originale."
   ]
  },
  {
   "cell_type": "code",
   "execution_count": 7,
   "id": "daa6751a-42b3-426c-92fa-485c4bbc98ad",
   "metadata": {},
   "outputs": [
    {
     "data": {
      "text/plain": [
       "True"
      ]
     },
     "execution_count": 7,
     "metadata": {},
     "output_type": "execute_result"
    }
   ],
   "source": [
    "import cv2\n",
    "\n",
    "img = cv2.imread('./data/Sharks/data/01.jpg')\n",
    "\n",
    "heatmap = np.array(heatmap)\n",
    "\n",
    "heatmap = cv2.resize(heatmap, (img.shape[1], img.shape[0]))\n",
    "\n",
    "heatmap = np.uint8(255 * heatmap)\n",
    "\n",
    "heatmap = cv2.applyColorMap(heatmap, cv2.COLORMAP_JET)\n",
    "\n",
    "superimposed_img = heatmap * 0.4 + img\n",
    "\n",
    "cv2.imwrite('./map.jpg', superimposed_img)"
   ]
  },
  {
   "cell_type": "markdown",
   "id": "93a9741d-3b71-444e-b0a0-fa174b4aee13",
   "metadata": {},
   "source": [
    "Dans l’image ci-dessous, nous pouvons voir les zones de l’image que notre réseau VGG19 a prises le plus au sérieux pour décider quelle classe (« African_elephant ») attribuer à l’image. Nous pouvons supposer que le réseau a pris la forme de la tête et des oreilles des éléphants comme un signe fort de la présence d’un éléphant dans l’image.\n",
    "\n",
    "Nous pouvons tester avec d'autres images, tels que des chats, des chiens, des requins, etc... Nous pouvons aussi tester d'autres modèles de CNN et voir la différence."
   ]
  }
 ],
 "metadata": {
  "kernelspec": {
   "display_name": "Python 3",
   "language": "python",
   "name": "python3"
  },
  "language_info": {
   "codemirror_mode": {
    "name": "ipython",
    "version": 3
   },
   "file_extension": ".py",
   "mimetype": "text/x-python",
   "name": "python",
   "nbconvert_exporter": "python",
   "pygments_lexer": "ipython3",
   "version": "3.8.8"
  }
 },
 "nbformat": 4,
 "nbformat_minor": 5
}
